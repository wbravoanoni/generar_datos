{
  "nbformat": 4,
  "nbformat_minor": 0,
  "metadata": {
    "colab": {
      "provenance": [],
      "authorship_tag": "ABX9TyMjcSK24tCbn1V6rEN2kclO",
      "include_colab_link": true
    },
    "kernelspec": {
      "name": "python3",
      "display_name": "Python 3"
    },
    "language_info": {
      "name": "python"
    }
  },
  "cells": [
    {
      "cell_type": "markdown",
      "metadata": {
        "id": "view-in-github",
        "colab_type": "text"
      },
      "source": [
        "<a href=\"https://colab.research.google.com/github/wbravoanoni/generar_datos/blob/main/python_repost_visual.ipynb\" target=\"_parent\"><img src=\"https://colab.research.google.com/assets/colab-badge.svg\" alt=\"Open In Colab\"/></a>"
      ]
    },
    {
      "cell_type": "code",
      "execution_count": 2,
      "metadata": {
        "colab": {
          "base_uri": "https://localhost:8080/"
        },
        "id": "m4hRvis8n6pJ",
        "outputId": "2698c859-a3b2-4c0e-9de0-063ca4a8257d"
      },
      "outputs": [
        {
          "output_type": "stream",
          "name": "stdout",
          "text": [
            "Status code: 200\n"
          ]
        }
      ],
      "source": [
        "import requests\n",
        "\n",
        "from plotly.graph_objs import Bar\n",
        "from plotly import offline\n",
        "\n",
        "#hace una llamada a la API y guarda la respuesta\n",
        "url = 'https://api.github.com/search/repositories?q=language:python&sort=stars'\n",
        "headers = {'Accept' : 'application/vnd.github.v3+json'}\n",
        "r = requests.get(url, headers=headers)\n",
        "print(f\"Status code: {r.status_code}\")\n"
      ]
    },
    {
      "cell_type": "code",
      "source": [
        "# Procesa los resultados\n",
        "response_dict = r.json()\n",
        "repo_dicts = response_dict['items']\n",
        "repo_names, starts, labels, repo_links = [], [], [], []\n",
        "for repo_dict in repo_dicts:\n",
        "  repo_names.append(repo_dict['name'])\n",
        "  starts.append(repo_dict['stargazers_count'])\n",
        "\n",
        "  owner = repo_dict['owner']['login']\n",
        "  description = repo_dict.get('description', 'No description')\n",
        "  label = f\"{owner}<br />{description}\"\n",
        "  labels.append(label)\n",
        "\n",
        "  repo_name = repo_dict['name']\n",
        "  repo_url = repo_dict['html_url']\n",
        "  repo_link = f\"<a href='{repo_url}'>{repo_name}</a>\"\n",
        "  repo_links.append(repo_link)\n",
        "\n",
        "#hace la visualizacion\n",
        "# 'x' : repo_names,\n",
        "data = [{\n",
        "    'type' : 'bar',\n",
        "    'x' : repo_links,\n",
        "    'y' : starts,\n",
        "    'hovertext': labels,\n",
        "    'marker' : {\n",
        "        'color' : 'rgb(60, 100, 150)',\n",
        "        'line' : {'width':1.5, 'color':'rgb(25, 25, 25)'}\n",
        "    },\n",
        "    'opacity':0.6,\n",
        "}]\n",
        "\n",
        "my_layout = {\n",
        "    'title' : 'Most-Starred Python Projects on Github',\n",
        "    'titlefont' : {'size' : 28},\n",
        "    'xaxis' : {'title' : 'Repository','titlefont' : {'size' : 24}, 'tickfont' : {'size' : 14}},\n",
        "    'yaxis' : {'title' : 'Stars','titlefont' : {'size' : 24}, 'tickfont' : {'size' : 14}},\n",
        "  }\n",
        "\n",
        "fig = {'data' : data , 'layout' : my_layout}\n",
        "offline.plot(fig, filename='python_repost.html')"
      ],
      "metadata": {
        "colab": {
          "base_uri": "https://localhost:8080/",
          "height": 36
        },
        "id": "90PkzYskoTgW",
        "outputId": "9f0cc6be-f39d-474a-f315-2cf5dede2530"
      },
      "execution_count": 20,
      "outputs": [
        {
          "output_type": "execute_result",
          "data": {
            "text/plain": [
              "'python_repost.html'"
            ],
            "application/vnd.google.colaboratory.intrinsic+json": {
              "type": "string"
            }
          },
          "metadata": {},
          "execution_count": 20
        }
      ]
    },
    {
      "cell_type": "code",
      "source": [],
      "metadata": {
        "id": "hkn8PP55sfVa"
      },
      "execution_count": null,
      "outputs": []
    }
  ]
}