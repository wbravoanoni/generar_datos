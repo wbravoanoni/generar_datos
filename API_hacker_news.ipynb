{
  "nbformat": 4,
  "nbformat_minor": 0,
  "metadata": {
    "colab": {
      "provenance": [],
      "authorship_tag": "ABX9TyPZQlACBKLSc13cTLDpsE/y",
      "include_colab_link": true
    },
    "kernelspec": {
      "name": "python3",
      "display_name": "Python 3"
    },
    "language_info": {
      "name": "python"
    }
  },
  "cells": [
    {
      "cell_type": "markdown",
      "metadata": {
        "id": "view-in-github",
        "colab_type": "text"
      },
      "source": [
        "<a href=\"https://colab.research.google.com/github/wbravoanoni/generar_datos/blob/main/API_hacker_news.ipynb\" target=\"_parent\"><img src=\"https://colab.research.google.com/assets/colab-badge.svg\" alt=\"Open In Colab\"/></a>"
      ]
    },
    {
      "cell_type": "code",
      "execution_count": 9,
      "metadata": {
        "colab": {
          "base_uri": "https://localhost:8080/"
        },
        "id": "JKquUayiw_T5",
        "outputId": "d0831fa0-3437-4415-b8fe-76678b05dd52"
      },
      "outputs": [
        {
          "output_type": "stream",
          "name": "stdout",
          "text": [
            "Status code: 200\n"
          ]
        }
      ],
      "source": [
        "import requests\n",
        "import json\n",
        "\n",
        "#hACE UNA LLAMADA A LA api Y GUARDA LA RESPUESTA\n",
        "url = 'https://hacker-news.firebaseio.com/v0/item/19155826.json'\n",
        "r = requests.get(url)\n",
        "print(f\"Status code: {r.status_code}\")\n",
        "\n",
        "#explora la extructura de los datos.\n",
        "response_dict = r.json()\n",
        "readable_file = '19155826.json'\n",
        "with open(readable_file, 'w') as f:\n",
        "  json.dump(response_dict, f, indent=4)"
      ]
    },
    {
      "cell_type": "code",
      "source": [],
      "metadata": {
        "colab": {
          "base_uri": "https://localhost:8080/"
        },
        "id": "qwRqLeY5ybR0",
        "outputId": "1a9cf668-a897-4b05-e45b-d77e3aab5bca"
      },
      "execution_count": 11,
      "outputs": [
        {
          "output_type": "stream",
          "name": "stdout",
          "text": [
            "<_io.TextIOWrapper name='19155826.json' mode='w' encoding='UTF-8'>\n"
          ]
        }
      ]
    },
    {
      "cell_type": "markdown",
      "source": [
        "## Ver elementos de la pagina de inicio"
      ],
      "metadata": {
        "id": "EPsjzzQE6p6d"
      }
    },
    {
      "cell_type": "code",
      "source": [
        "from operator import itemgetter\n",
        "\n",
        "import requests\n",
        "\n",
        "# hace una llamada a la APi y guarda la respuesta\n",
        "url = 'https://hacker-news.firebaseio.com/v0/topstories.json'\n",
        "r = requests.get(url)\n",
        "print(f\"Status code: {r.status_code}\")\n"
      ],
      "metadata": {
        "colab": {
          "base_uri": "https://localhost:8080/"
        },
        "id": "y5q5pDSW6r-r",
        "outputId": "384475b1-6098-46c2-d89e-17f764e3d69d"
      },
      "execution_count": 12,
      "outputs": [
        {
          "output_type": "stream",
          "name": "stdout",
          "text": [
            "Status code: 200\n"
          ]
        }
      ]
    },
    {
      "cell_type": "code",
      "source": [
        "import requests\n",
        "from operator import itemgetter\n",
        "\n",
        "# Procesa la información sobre cada envío\n",
        "response = requests.get(\"https://hacker-news.firebaseio.com/v0/topstories.json\")\n",
        "submission_ids = response.json()\n",
        "submissions_dicts = []\n",
        "\n",
        "for submission_id in submission_ids[:30]:\n",
        "    # Hace una llamada a la API para cada envío\n",
        "    url = f\"https://hacker-news.firebaseio.com/v0/item/{submission_id}.json\"\n",
        "    r = requests.get(url)\n",
        "    print(f\"id: {submission_id} / status: {r.status_code}\")\n",
        "\n",
        "    response_dict = r.json()\n",
        "\n",
        "    # Verifica si el diccionario tiene las claves esperadas\n",
        "    if 'title' not in response_dict or 'descendants' not in response_dict:\n",
        "        continue  # Evita errores por claves faltantes\n",
        "\n",
        "    # Crea un diccionario para cada artículo\n",
        "    submission_dict = {\n",
        "        'title': response_dict['title'],\n",
        "        'hn_link': f\"https://hacker-news.firebaseio.com/v0/item/{submission_id}.json\",\n",
        "        'comments': response_dict['descendants']  # Asegúrate de usar un valor válido\n",
        "    }\n",
        "\n",
        "    submissions_dicts.append(submission_dict)\n",
        "\n",
        "# Ordena por cantidad de comentarios\n",
        "submissions_dicts = sorted(submissions_dicts, key=itemgetter('comments'), reverse=True)  # Corrige el nombre de la lista\n",
        "\n",
        "# Imprime la información de cada artículo\n",
        "for submission_dict in submissions_dicts:\n",
        "    print(f\"\\nTitle: {submission_dict['title']}\")\n",
        "    print(f\"Discussion link: {submission_dict['hn_link']}\")\n",
        "    print(f\"Comments: {submission_dict['comments']}\")\n"
      ],
      "metadata": {
        "colab": {
          "base_uri": "https://localhost:8080/"
        },
        "id": "zY22LIx97Z1T",
        "outputId": "ddc22e55-54fd-46c9-dcd7-eaaf4b968cc3"
      },
      "execution_count": 25,
      "outputs": [
        {
          "output_type": "stream",
          "name": "stdout",
          "text": [
            "id: 40261001 / status: 200\n",
            "id: 40261681 / status: 200\n",
            "id: 40260210 / status: 200\n",
            "id: 40259185 / status: 200\n",
            "id: 40260259 / status: 200\n",
            "id: 40260035 / status: 200\n",
            "id: 40261550 / status: 200\n",
            "id: 40260399 / status: 200\n",
            "id: 40261965 / status: 200\n",
            "id: 40235345 / status: 200\n",
            "id: 40258037 / status: 200\n",
            "id: 40261023 / status: 200\n",
            "id: 40257601 / status: 200\n",
            "id: 40257843 / status: 200\n",
            "id: 40258804 / status: 200\n",
            "id: 40261647 / status: 200\n",
            "id: 40260245 / status: 200\n",
            "id: 40245261 / status: 200\n",
            "id: 40256173 / status: 200\n",
            "id: 40261705 / status: 200\n",
            "id: 40262190 / status: 200\n",
            "id: 40261985 / status: 200\n",
            "id: 40261408 / status: 200\n",
            "id: 40261451 / status: 200\n",
            "id: 40258273 / status: 200\n",
            "id: 40253494 / status: 200\n",
            "id: 40236462 / status: 200\n",
            "id: 40257677 / status: 200\n",
            "id: 40255634 / status: 200\n",
            "id: 40257064 / status: 200\n",
            "\n",
            "Title: Vulture shortage threatens Zoroastrian burial rites\n",
            "Discussion link: https://hacker-news.firebaseio.com/v0/item/40257064.json\n",
            "Comments: 110\n",
            "\n",
            "Title: Show HN: gpudeploy.com – \"Airbnb\" for GPUs\n",
            "Discussion link: https://hacker-news.firebaseio.com/v0/item/40260259.json\n",
            "Comments: 92\n",
            "\n",
            "Title: Was the Stone Age the Wood Age?\n",
            "Discussion link: https://hacker-news.firebaseio.com/v0/item/40258273.json\n",
            "Comments: 83\n",
            "\n",
            "Title: In Praise of Idleness (1932)\n",
            "Discussion link: https://hacker-news.firebaseio.com/v0/item/40257677.json\n",
            "Comments: 78\n",
            "\n",
            "Title: Show HN: Dillo 3.1.0 released after 9 years\n",
            "Discussion link: https://hacker-news.firebaseio.com/v0/item/40260035.json\n",
            "Comments: 69\n",
            "\n",
            "Title: The Mirror Fusion Test Facility (2023)\n",
            "Discussion link: https://hacker-news.firebaseio.com/v0/item/40257843.json\n",
            "Comments: 59\n",
            "\n",
            "Title: How to build a $20B semiconductor fab\n",
            "Discussion link: https://hacker-news.firebaseio.com/v0/item/40258037.json\n",
            "Comments: 48\n",
            "\n",
            "Title: Verified Rust for low-level systems code\n",
            "Discussion link: https://hacker-news.firebaseio.com/v0/item/40259185.json\n",
            "Comments: 42\n",
            "\n",
            "Title: CBMC: C bounded model checker (2021)\n",
            "Discussion link: https://hacker-news.firebaseio.com/v0/item/40257601.json\n",
            "Comments: 25\n",
            "\n",
            "Title: Porting HPC Applications to AMD Instinct MI300A Using Unified Memory and OpenMP\n",
            "Discussion link: https://hacker-news.firebaseio.com/v0/item/40258804.json\n",
            "Comments: 23\n",
            "\n",
            "Title: Superfest – The almost unbreakable East German Glass\n",
            "Discussion link: https://hacker-news.firebaseio.com/v0/item/40260399.json\n",
            "Comments: 19\n",
            "\n",
            "Title: Why US renters are taking corporate landlords to court\n",
            "Discussion link: https://hacker-news.firebaseio.com/v0/item/40261647.json\n",
            "Comments: 18\n",
            "\n",
            "Title: Drink Me: (Ab)Using a LLM to Compress Text\n",
            "Discussion link: https://hacker-news.firebaseio.com/v0/item/40245261.json\n",
            "Comments: 18\n",
            "\n",
            "Title: Vera Rubin's primary mirror gets its first reflective coating\n",
            "Discussion link: https://hacker-news.firebaseio.com/v0/item/40261001.json\n",
            "Comments: 17\n",
            "\n",
            "Title: SEQUOIA: Exact Llama2-70B on an RTX4090 with half-second per-token latency\n",
            "Discussion link: https://hacker-news.firebaseio.com/v0/item/40261965.json\n",
            "Comments: 16\n",
            "\n",
            "Title: The business of wallets\n",
            "Discussion link: https://hacker-news.firebaseio.com/v0/item/40235345.json\n",
            "Comments: 16\n",
            "\n",
            "Title: Preliminary Macintosh Business Plan (12 July 1981) [pdf]\n",
            "Discussion link: https://hacker-news.firebaseio.com/v0/item/40261451.json\n",
            "Comments: 14\n",
            "\n",
            "Title: Dick Rutan, pilot of the first nonstop around-the-world flight, has died\n",
            "Discussion link: https://hacker-news.firebaseio.com/v0/item/40261408.json\n",
            "Comments: 11\n",
            "\n",
            "Title: The Matrix: A Bayesian learning model for LLMs\n",
            "Discussion link: https://hacker-news.firebaseio.com/v0/item/40256173.json\n",
            "Comments: 10\n",
            "\n",
            "Title: Atari's Mike Jang\n",
            "Discussion link: https://hacker-news.firebaseio.com/v0/item/40260210.json\n",
            "Comments: 5\n",
            "\n",
            "Title: Automated integer hash function discovery\n",
            "Discussion link: https://hacker-news.firebaseio.com/v0/item/40261681.json\n",
            "Comments: 2\n",
            "\n",
            "Title: Ghosts in the Machine 2 [video]\n",
            "Discussion link: https://hacker-news.firebaseio.com/v0/item/40261985.json\n",
            "Comments: 2\n",
            "\n",
            "Title: A Debate about Words\n",
            "Discussion link: https://hacker-news.firebaseio.com/v0/item/40255634.json\n",
            "Comments: 2\n",
            "\n",
            "Title: Judge mulls sanctions over Google's \"shocking\" destruction of internal chats\n",
            "Discussion link: https://hacker-news.firebaseio.com/v0/item/40262190.json\n",
            "Comments: 1\n",
            "\n",
            "Title: Art and Memory\n",
            "Discussion link: https://hacker-news.firebaseio.com/v0/item/40253494.json\n",
            "Comments: 1\n",
            "\n",
            "Title: Understanding Stein's Paradox (2021)\n",
            "Discussion link: https://hacker-news.firebaseio.com/v0/item/40261550.json\n",
            "Comments: 0\n",
            "\n",
            "Title: Hymn for Walpurgisnacht\n",
            "Discussion link: https://hacker-news.firebaseio.com/v0/item/40261023.json\n",
            "Comments: 0\n",
            "\n",
            "Title: Moving the largest camera from California lab to Andes mountaintop\n",
            "Discussion link: https://hacker-news.firebaseio.com/v0/item/40261705.json\n",
            "Comments: 0\n",
            "\n",
            "Title: Professor Megalow's Dinosaur Bones: Richard Owen and Victorian literature\n",
            "Discussion link: https://hacker-news.firebaseio.com/v0/item/40236462.json\n",
            "Comments: 0\n"
          ]
        }
      ]
    },
    {
      "cell_type": "code",
      "source": [],
      "metadata": {
        "id": "GwqEkW-S9Krf"
      },
      "execution_count": null,
      "outputs": []
    }
  ]
}