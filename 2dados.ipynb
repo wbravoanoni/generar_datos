{
  "nbformat": 4,
  "nbformat_minor": 0,
  "metadata": {
    "colab": {
      "provenance": [],
      "authorship_tag": "ABX9TyO+0sBjOp8wqGScr3s0IFYv",
      "include_colab_link": true
    },
    "kernelspec": {
      "name": "python3",
      "display_name": "Python 3"
    },
    "language_info": {
      "name": "python"
    }
  },
  "cells": [
    {
      "cell_type": "markdown",
      "metadata": {
        "id": "view-in-github",
        "colab_type": "text"
      },
      "source": [
        "<a href=\"https://colab.research.google.com/github/wbravoanoni/generar_datos/blob/main/2dados.ipynb\" target=\"_parent\"><img src=\"https://colab.research.google.com/assets/colab-badge.svg\" alt=\"Open In Colab\"/></a>"
      ]
    },
    {
      "cell_type": "code",
      "execution_count": 2,
      "metadata": {
        "colab": {
          "base_uri": "https://localhost:8080/",
          "height": 35
        },
        "id": "qkhmvXkXsm6s",
        "outputId": "77595f01-8056-4708-e8b5-a24f5d832a6d"
      },
      "outputs": [
        {
          "output_type": "execute_result",
          "data": {
            "text/plain": [
              "'d6_d6.html'"
            ],
            "application/vnd.google.colaboratory.intrinsic+json": {
              "type": "string"
            }
          },
          "metadata": {},
          "execution_count": 2
        }
      ],
      "source": [
        "from random import randint\n",
        "\n",
        "class Dado:\n",
        "  \"\"\" Una clase de representa un solo dado \"\"\"\n",
        "\n",
        "  def __init__(self, num_sides=6):\n",
        "    \"\"\" Asume que el dado tiene 6 caras \"\"\"\n",
        "    self.num_sides = num_sides\n",
        "\n",
        "  def roll(self):\n",
        "    \"\"\" Devuelve un valor aleatorio entre 1 y el número de caras \"\"\"\n",
        "    return randint(1,self.num_sides)\n",
        "\n",
        "\n",
        "\n",
        "#Crear 2 dados D6\n",
        "dado_1 = Dado()\n",
        "dado_2 = Dado()\n",
        "\n",
        "dado = Dado()\n",
        "results = []\n",
        "frequencies = []\n",
        "\n",
        "for roll_num in range(1000):\n",
        "  result = dado_1.roll() + dado_2.roll()\n",
        "  results.append(result)\n",
        "\n",
        "\n",
        "max_result = dado_1.num_sides + dado_2.num_sides\n",
        "\n",
        "for value in range(2, max_result + 1):\n",
        "  frequency = results.count(value)\n",
        "  frequencies.append(frequency)\n",
        "\n",
        "#Visualizar los resultados\n",
        "\n",
        "from plotly.graph_objs import Bar, Layout\n",
        "from plotly import offline\n",
        "\n",
        "x_values = list(range(2, max_result + 1))\n",
        "data = [Bar(x=x_values, y=frequencies)]\n",
        "\n",
        "x_axis_config = {'title':'Result','dtick' : 1}\n",
        "y_axis_config = {'title':'Frequency of Result'}\n",
        "my_layout = Layout(title='Result of rolling two D6 dice 1000 times', xaxis =x_axis_config, yaxis=y_axis_config)\n",
        "offline.plot({'data':data,'layout': my_layout}, filename='d6_d6.html')\n",
        "\n"
      ]
    }
  ]
}