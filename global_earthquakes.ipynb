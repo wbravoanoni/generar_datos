{
  "nbformat": 4,
  "nbformat_minor": 0,
  "metadata": {
    "colab": {
      "provenance": [],
      "authorship_tag": "ABX9TyO+sSm/rvLCtHo0LQFp33cX",
      "include_colab_link": true
    },
    "kernelspec": {
      "name": "python3",
      "display_name": "Python 3"
    },
    "language_info": {
      "name": "python"
    }
  },
  "cells": [
    {
      "cell_type": "markdown",
      "metadata": {
        "id": "view-in-github",
        "colab_type": "text"
      },
      "source": [
        "<a href=\"https://colab.research.google.com/github/wbravoanoni/generar_datos/blob/main/global_earthquakes.ipynb\" target=\"_parent\"><img src=\"https://colab.research.google.com/assets/colab-badge.svg\" alt=\"Open In Colab\"/></a>"
      ]
    },
    {
      "cell_type": "code",
      "execution_count": 48,
      "metadata": {
        "id": "KG1szD_5Ie6i"
      },
      "outputs": [],
      "source": [
        "import json\n",
        "import geopandas as gpd\n",
        "import requests\n",
        "\n",
        "# Explora la estructura de los datos\n",
        "\n",
        "#filename = '1.0_day.json'\n",
        "filename = 'all_week.geojson'\n",
        "with open(filename)  as f:\n",
        "  all_eq_data = json.load(f)\n",
        "\n",
        "readable_file = 'readable_eq_data.json'\n",
        "\n",
        "with open('readable_file.json', 'w') as f:\n",
        "  json.dump(all_eq_data, f , indent=4)\n"
      ]
    },
    {
      "cell_type": "code",
      "source": [],
      "metadata": {
        "id": "pLO4Um1pSA2n"
      },
      "execution_count": null,
      "outputs": []
    },
    {
      "cell_type": "code",
      "source": [
        "import json\n",
        "#Explorar la estructura de los datos\n",
        "filename = 'readable_file.json'\n",
        "with open(filename) as f:\n",
        "  all_eq_data = json.load(f)\n",
        "\n",
        "all_eq_dicts = all_eq_data['features']\n",
        "#print(len(all_eq_dicts))\n",
        "\n",
        "mags, lons, lats, hover_text = [], [], [], []\n",
        "\n",
        "for eq_dict in all_eq_dicts:\n",
        "  mag = eq_dict['properties']['mag']\n",
        "  lon = eq_dict['geometry']['coordinates'][0]\n",
        "  lat = eq_dict['geometry']['coordinates'][1]\n",
        "  title = eq_dict['properties']['title']\n",
        "  mags.append(mag)\n",
        "  lons.append(lon)\n",
        "  lats.append(lat)\n",
        "  hover_text.append(title)\n",
        "\n",
        "\n",
        "#Crar un mapa del mundo\n",
        "from plotly.graph_objs import Scattergeo, Layout\n",
        "from plotly import offline\n",
        "\n",
        "#mapea los terremotos\n",
        "#Forma sensilla\n",
        "#data = [Scattergeo(lon=lons, lat=lats)]\n",
        "\n",
        "#forma especifica\n",
        "\n",
        "data = [{\n",
        "    'type' : 'scattergeo',\n",
        "    'lon' : lons,\n",
        "    'lat' : lats,\n",
        "    'text': hover_text,\n",
        "    'marker' : {\n",
        "        'size' : [max(5 * mag, 1) for mag in mags],\n",
        "        'color':mags,\n",
        "        'colorscale':'Viridis',\n",
        "        'reversescale':True,\n",
        "        'colorbar': {'title' : 'Magnitude'}\n",
        "      },\n",
        "    }]\n",
        "\n",
        "my_layout = Layout(title='Global Earthquakes')\n",
        "\n",
        "fig = {'data' : data, 'layout' : my_layout}\n",
        "offline.plot(fig, filename='global_earthquakes.html')\n",
        "\n",
        "\n",
        "\n",
        "\n"
      ],
      "metadata": {
        "colab": {
          "base_uri": "https://localhost:8080/",
          "height": 36
        },
        "id": "gV9Hnd6GPlKG",
        "outputId": "60873bbc-d080-445d-a7dc-ddad9642bb2a"
      },
      "execution_count": 53,
      "outputs": [
        {
          "output_type": "execute_result",
          "data": {
            "text/plain": [
              "'global_earthquakes.html'"
            ],
            "application/vnd.google.colaboratory.intrinsic+json": {
              "type": "string"
            }
          },
          "metadata": {},
          "execution_count": 53
        }
      ]
    },
    {
      "cell_type": "code",
      "source": [
        "#Escalas de colores\n",
        "from plotly import colors\n",
        "for key in colors.PLOTLY_SCALES.keys():\n",
        "  print(key)"
      ],
      "metadata": {
        "colab": {
          "base_uri": "https://localhost:8080/"
        },
        "id": "BuP9T2zITqOX",
        "outputId": "b47006f3-eb86-410e-884e-0940933b1f46"
      },
      "execution_count": 26,
      "outputs": [
        {
          "output_type": "stream",
          "name": "stdout",
          "text": [
            "Greys\n",
            "YlGnBu\n",
            "Greens\n",
            "YlOrRd\n",
            "Bluered\n",
            "RdBu\n",
            "Reds\n",
            "Blues\n",
            "Picnic\n",
            "Rainbow\n",
            "Portland\n",
            "Jet\n",
            "Hot\n",
            "Blackbody\n",
            "Earth\n",
            "Electric\n",
            "Viridis\n",
            "Cividis\n"
          ]
        }
      ]
    },
    {
      "cell_type": "code",
      "source": [],
      "metadata": {
        "id": "WEhUySJTVzcr"
      },
      "execution_count": null,
      "outputs": []
    }
  ]
}