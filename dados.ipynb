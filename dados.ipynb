{
  "nbformat": 4,
  "nbformat_minor": 0,
  "metadata": {
    "colab": {
      "provenance": [],
      "authorship_tag": "ABX9TyOgRvouRuTTFLMqBVdT9K9c",
      "include_colab_link": true
    },
    "kernelspec": {
      "name": "python3",
      "display_name": "Python 3"
    },
    "language_info": {
      "name": "python"
    }
  },
  "cells": [
    {
      "cell_type": "markdown",
      "metadata": {
        "id": "view-in-github",
        "colab_type": "text"
      },
      "source": [
        "<a href=\"https://colab.research.google.com/github/wbravoanoni/generar_datos/blob/main/dados.ipynb\" target=\"_parent\"><img src=\"https://colab.research.google.com/assets/colab-badge.svg\" alt=\"Open In Colab\"/></a>"
      ]
    },
    {
      "cell_type": "markdown",
      "source": [
        "# Instalar Plotly antes de comenzar"
      ],
      "metadata": {
        "id": "z7E7JOb_nQRa"
      }
    },
    {
      "cell_type": "code",
      "source": [
        "from random import randint\n",
        "\n",
        "class Dado:\n",
        "  \"\"\" Una clase de representa un solo dado \"\"\"\n",
        "\n",
        "  def __init__(self, num_sides=6):\n",
        "    \"\"\" Asume que el dado tiene 6 caras \"\"\"\n",
        "    self.num_sides = num_sides\n",
        "\n",
        "  def roll(self):\n",
        "    \"\"\" Devuelve un valor aleatorio entre 1 y el número de caras \"\"\"\n",
        "    return randint(1,self.num_sides)\n",
        "\n",
        "\n",
        "dado = Dado()\n",
        "results = []\n",
        "frequencies = []\n",
        "\n",
        "for roll_num in range(1000):\n",
        "  result = dado.roll()\n",
        "  results.append(result)\n",
        "\n",
        "for value in range(1, dado.num_sides + 1):\n",
        "  frequency = results.count(value)\n",
        "  frequencies.append(frequency)\n",
        "\n",
        "#Visualizar los resultados\n",
        "\n",
        "from plotly.graph_objs import Bar, Layout\n",
        "from plotly import offline\n",
        "\n",
        "x_values = list(range(1, dado.num_sides+1))\n",
        "data = [Bar(x=x_values, y=frequencies)]\n",
        "\n",
        "x_axis_config = {'title':'Result'}\n",
        "y_axis_config = {'title':'Frequency of Result'}\n",
        "my_layout = Layout(title='Result of rolling one D6 1000 times', xaxis =x_axis_config, yaxis=y_axis_config)\n",
        "offline.plot({'data':data,'layout': my_layout}, filename='d6.html')\n",
        "\n"
      ],
      "metadata": {
        "colab": {
          "base_uri": "https://localhost:8080/",
          "height": 35
        },
        "id": "l74I0kahnap5",
        "outputId": "fb2f6082-7a69-43bd-b35f-84b784f20785"
      },
      "execution_count": 11,
      "outputs": [
        {
          "output_type": "execute_result",
          "data": {
            "text/plain": [
              "'d6.html'"
            ],
            "application/vnd.google.colaboratory.intrinsic+json": {
              "type": "string"
            }
          },
          "metadata": {},
          "execution_count": 11
        }
      ]
    },
    {
      "cell_type": "code",
      "source": [],
      "metadata": {
        "id": "lZ9WDWiTpQ3M"
      },
      "execution_count": null,
      "outputs": []
    }
  ]
}